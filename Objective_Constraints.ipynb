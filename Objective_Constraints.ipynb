{
 "cells": [
  {
   "cell_type": "code",
   "execution_count": 2,
   "metadata": {},
   "outputs": [
    {
     "name": "stdout",
     "output_type": "stream",
     "text": [
      "optimum 22.0 at [10. -3.]\n"
     ]
    }
   ],
   "source": [
    "import cvxpy as cp\n",
    "import numpy as np\n",
    "import pandas as pd\n",
    "\n",
    "x = cp.Variable(2)\n",
    "\n",
    "objective = cp.Maximize(x[0] - 4*x[1])\n",
    "\n",
    "constraints = [-3*x[0] + x[1] <= 6,\n",
    "              x[0] + 2*x[1] <= 4,\n",
    "              x[0] >= 0,\n",
    "              x[1] >= -3]\n",
    "\n",
    "problem = cp.Problem(objective, constraints)\n",
    "problem.solve()\n",
    "\n",
    "print('optimum',round(problem.value),'at',np.round(x.value,2))"
   ]
  },
  {
   "cell_type": "code",
   "execution_count": 3,
   "metadata": {},
   "outputs": [
    {
     "name": "stdout",
     "output_type": "stream",
     "text": [
      "20.000000000000032 1.999999999999993\n"
     ]
    }
   ],
   "source": [
    "x = cp.Variable(2, nonneg = True, name = 'x')\n",
    "\n",
    "c = np.array([50, 30])\n",
    "objective = cp.Maximize(c@x)\n",
    "\n",
    "A = np.array([[2,1], [5,5], [1,3]])\n",
    "b = np.array([14, 40, 18])\n",
    "\n",
    "constraint = [A@x <= b]\n",
    "\n",
    "problem = cp.Problem(objective, constraint)\n",
    "problem.solve()\n",
    "\n",
    "f_opt = problem.value\n",
    "x_opt = x.value\n",
    "shadow_prices = problem.constraints[0].dual_value\n",
    "\n",
    "print(shadow_prices[0], shadow_prices[1])\n"
   ]
  },
  {
   "cell_type": "code",
   "execution_count": 4,
   "metadata": {},
   "outputs": [
    {
     "name": "stdout",
     "output_type": "stream",
     "text": [
      "148.0 [9. 2.]\n",
      "0.0\n",
      "3.0\n",
      "0.0\n",
      "0.44444446197963544\n",
      "2.666666630260206\n",
      "5.297605308646e-09\n"
     ]
    }
   ],
   "source": [
    "x = cp.Variable(2, nonneg = True, name = 'x')\n",
    "\n",
    "c = np.array([12,20])\n",
    "objective = cp.Minimize(c@x)\n",
    "\n",
    "A = np.array([[3,9], [4,6] , [14,7]])\n",
    "b = np.array([45, 48, 84])\n",
    "\n",
    "constraint = [A@x >= b]\n",
    "\n",
    "problem = cp.Problem(objective, constraint)\n",
    "problem.solve(solver='ECOS')\n",
    "\n",
    "f_opt = problem.value\n",
    "x_opt = x.value\n",
    "shadow_prices = problem.constraints[0].dual_value\n",
    "\n",
    "print(round(problem.value,2), np.round(x.value,2))\n",
    "\n",
    "print(round(shadow_prices[0]))\n",
    "print(round(shadow_prices[1]))\n",
    "print(round(shadow_prices[2]))\n",
    "\n",
    "print(shadow_prices[0])\n",
    "print(shadow_prices[1])\n",
    "print(shadow_prices[2])"
   ]
  },
  {
   "cell_type": "code",
   "execution_count": 5,
   "metadata": {},
   "outputs": [
    {
     "name": "stdout",
     "output_type": "stream",
     "text": [
      "Optimum 1.286 at [0.857 0.214]\n"
     ]
    }
   ],
   "source": [
    "import pandas as pd\n",
    "import cvxpy as cp\n",
    "import numpy as np\n",
    "\n",
    "\n",
    "C = np.array([[-2, 1], [1, -4]])\n",
    "b = np.array([-3, 0])\n",
    "\n",
    "x = cp.Variable(2, name = 'x')\n",
    "objective = cp.Maximize(cp.quad_form(x, C)-b.T@x)\n",
    "\n",
    "problem = cp.Problem(objective)\n",
    "problem.solve(solver='ECOS')\n",
    "\n",
    "print('Optimum', round(problem.value, 3), 'at', np.round(x.value, 3))\n",
    "\n",
    "\n"
   ]
  },
  {
   "cell_type": "code",
   "execution_count": 8,
   "metadata": {},
   "outputs": [
    {
     "name": "stdout",
     "output_type": "stream",
     "text": [
      "Optimum 14.381 at [-3.44  -3.456 -1.134]\n"
     ]
    }
   ],
   "source": [
    "C = np.array([[-4, 1, 6], [1, -5, 10], [6, 10, -50]])\n",
    "b = np.array([7, 5, 3])\n",
    "\n",
    "x = cp.Variable(3, name = 'x')\n",
    "objective = cp.Maximize(cp.quad_form(x, C) - b.T@x - 8)\n",
    "\n",
    "problem = cp.Problem(objective)\n",
    "problem.solve()\n",
    "\n",
    "print('Optimum', round(problem.value, 3), 'at', np.round(x.value, 3))"
   ]
  }
 ],
 "metadata": {
  "kernelspec": {
   "display_name": "Python 3",
   "language": "python",
   "name": "python3"
  },
  "language_info": {
   "codemirror_mode": {
    "name": "ipython",
    "version": 3
   },
   "file_extension": ".py",
   "mimetype": "text/x-python",
   "name": "python",
   "nbconvert_exporter": "python",
   "pygments_lexer": "ipython3",
   "version": "3.7.3"
  }
 },
 "nbformat": 4,
 "nbformat_minor": 2
}
