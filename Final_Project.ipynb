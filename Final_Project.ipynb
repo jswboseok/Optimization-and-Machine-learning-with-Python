{
 "cells": [
  {
   "cell_type": "markdown",
   "metadata": {},
   "source": [
    "# Final Project\n",
    "## Maximize the rice profit and measure the agriculting area\n",
    "\n",
    "\n",
    "\n",
    "\n",
    "\n",
    "\n"
   ]
  },
  {
   "cell_type": "markdown",
   "metadata": {},
   "source": [
    " Recently, **<span style=\"color:blue\">a rice production</span>** in Korea has gradually increased due to the increase in rice farming area and development of agriculture technology. However, a rice consumption is decreasing because of the increase in single-person household and an introduction of western food culture. This caused the problems such as price instability and oversupply.\n",
    "\n",
    " As we looked over this issue, we wanted to find out **<span style=\"color:blue\">an area of the farmland</span>** by maximizing benefits of the farming households. Therefore, we can make a decision by comparing data with actual area of the farmlands in each region at present."
   ]
  },
  {
   "cell_type": "markdown",
   "metadata": {},
   "source": [
    "### <center>Data</center>\n",
    "\n",
    "| Province | Gyeongi | Gangwon | Chungbuk | Chungnam | Jeonbuk | Jeonnam | Gyeongbuk | Gyeongnam |\n",
    "|:---|:---|:---|:---|:---|:---|:---|:---|:---|\n",
    "| profit per a(won) | 690803 | 691171 | 605486 | 796846 | 667664 | 586882 | 743952 | 711568 |\n",
    "\n"
   ]
  },
  {
   "cell_type": "markdown",
   "metadata": {},
   "source": [
    "\n",
    "### <center>Tasks for Farming Rice</center>\n",
    "\n",
    "| task(h/a) | | Gyeongi | Gangwon | Chungbuk | Chungnam | Jeonbuk | Jeonnam | Gyeongbuk | Gyeongnam |\n",
    "|:---|:---|:---|:---|:---|:---|:---|:---|:---|:---|\n",
    "| Direct tasks | seedbed operation | 1.41 | 2.37 | 1.14 | 2.12 | 1.69 | 1.84 | 1.78 | 1.49 |\n",
    "| | seeding | 0 | 0 | 0 | 0.02 | 0.01 | 0 | 0 | 0 |\n",
    "| | prepare paddy field | 1.07 | 1.37 | 1.07 | 1.19 | 1.41 | 1.67 | 1.38 | 1.45 |\n",
    "| | implant | 1.13 | 2.46 | 1.33 | 1.54 | 1.41 | 1.67 | 1.38 | 1.45 |\n",
    "| | manage paddy field | 2.47 | 1.8 | 3.12 | 2.24 | 1.94 | 1.88 | 2.28 | 2.5 | \n",
    "| | fertilize | 0.83 | 0.85 | 1.08 | 0.75 | 0.59 | 0.81 | 0.73 | 0.67 |\n",
    "| | weeding | 1.64 | 1.8 | 2.19 | 1.75 | 1.31 | 2.09 | 1.71 | 2.29 |\n",
    "| | insecticide | 0.29 | 0.21 | 0.45 | 0.31 | 0.22 | 0.54 | 0.3 | 0.36 |\n",
    "| | harvest | 0.48 | 1.09 | 0.75 | 0.87 | 0.68 | 0.81 | 0.74 | 1.01 |\n",
    "| | transport | 0.2 | 0.36 | 0.18 | 0.14 | 0.27 | 0.2 | 0.28 | 0.3 |\n",
    "| | drying | 0.09 | 0.23 | 0.17 | 0.33 | 0.28 | 0.21 | 0.34 | 0.49 |\n",
    "| | etc | 0.19 | 0.11 | 0.23 | 0.14 | 0.12 | 0.16 | 0.27 | 0.04 |\n",
    "| indirect tasks | planning and management | 0.55 | 0.31 | 0.39 | 0.39 | 0.3 | 0.17 | 0.26 | 0.22 |\n",
    "| | purchase | 0.28 | 0.27 | 0.29 | 0.17 | 0.18 | 0.16 | 0.19 | 0.28 |\n",
    "| | etc | 0.17 | 0.1 | 0.06 | 0.06 | 0.06 | 0.04 | 0.06 | 0.04 |"
   ]
  },
  {
   "cell_type": "markdown",
   "metadata": {},
   "source": [
    "### Korean designated labor hour = 52 hours / week\n",
    "### -> 7.4 hours per 1 day\n",
    "\n"
   ]
  },
  {
   "cell_type": "markdown",
   "metadata": {},
   "source": [
    "| operations | | labor hours |\n",
    "|:----|:----|:----|\n",
    "| seeding | 10 days | 74 |\n",
    "| prepare paddy field | 40 days | 296 |\n",
    "| fertilize | 10 days | 74 |\n",
    "| harvest | 50 days | 370 |\n",
    "| implant | 20 days | 148 |\n",
    "| rest tasks | 166(except 69 Holidays) | 1228.4 |"
   ]
  },
  {
   "cell_type": "markdown",
   "metadata": {},
   "source": [
    "\\$\n",
    "\\mathbf{needed area} = \\left[\n",
    "\\begin{array}{rr}\n",
    "  x[0] & x[1] & x[2] & x[3] & x[4] & x[5] & x[6] & x[7] \\\\\n",
    "\\end{array}\n",
    "\\right]\n",
    "\\$\n",
    "\n",
    "**each x represents the <span style=\"color:orange\">needed farming area</span> of each province**"
   ]
  },
  {
   "cell_type": "markdown",
   "metadata": {},
   "source": [
    "### Objective Function"
   ]
  },
  {
   "cell_type": "markdown",
   "metadata": {},
   "source": [
    "**<span style=\"color:blue\">Maximize z</span>** = Gyeonggi's profit * x[0] + Gangwon's profit * x[1] + Chungbuk's Profit * x[2] + Chungnam's profit * x[3] + \n",
    "             Jeonbuk's profit * x[4] + Jeonnam's profit * x[5] + Gyeongbuk's profit * x[6] + Gyeongnam's profit * x[7]"
   ]
  },
  {
   "cell_type": "markdown",
   "metadata": {},
   "source": [
    "### ex ) Gyeonggi's constraint\n",
    "\n",
    "$\n",
    "\\left[\n",
    "\\begin{array}{rr}\n",
    "  0 \\\\\n",
    "  1.07 \\\\\n",
    "  1.13 \\\\\n",
    "  0.83 \\\\\n",
    "  0.48 \\\\\n",
    "  8.36 \\\\\n",
    "\\end{array}\n",
    "\\right]\n",
    "\\qquad\n",
    "*\n",
    "\\qquad\n",
    "x[0]\n",
    "\\qquad\n",
    "<=\n",
    "\\qquad\n",
    "\\left[\n",
    "\\begin{array}{rr}\n",
    "    75 \\\\\n",
    "  300 \\\\\n",
    "  75 \\\\\n",
    "  375 \\\\\n",
    "  150 \\\\\n",
    "  1245 \\\\\n",
    "\\end{array}\n",
    "\\right]\n",
    "$"
   ]
  },
  {
   "cell_type": "markdown",
   "metadata": {},
   "source": [
    "### Step 1) Extract Data from Excel"
   ]
  },
  {
   "cell_type": "code",
   "execution_count": 2,
   "metadata": {},
   "outputs": [
    {
     "name": "stdout",
     "output_type": "stream",
     "text": [
      "                     Unnamed: 0       Gyeonggi  Unnamed: 2  \\\n",
      "0               profit per a(\\)  690803.000000         NaN   \n",
      "1           agriculture area(a)      89.156627         NaN   \n",
      "2             seedbed operation       1.410000         NaN   \n",
      "3    manage paddy field watered       2.470000         NaN   \n",
      "4                       weeding       1.640000         NaN   \n",
      "5                   insecticide       0.290000         NaN   \n",
      "6                     transport       0.200000         NaN   \n",
      "7                        drying       0.090000         NaN   \n",
      "8       planning and management       0.550000         NaN   \n",
      "9                      purchase       0.280000         NaN   \n",
      "10                          etc       0.360000         NaN   \n",
      "11                      seeding       0.000000    0.000000   \n",
      "12  prepare paddy field watered       1.070000   95.397590   \n",
      "13                      implant       1.130000  100.746988   \n",
      "14                    fertilize       0.830000   74.000000   \n",
      "15                      harvest       0.480000   42.795181   \n",
      "16        sum of the rest field       8.360000  745.349398   \n",
      "17        sum of the rest field      10.800000  962.891566   \n",
      "18              farming area(a)  862430.000000         NaN   \n",
      "19             needed household    9673.201351         NaN   \n",
      "20                      in real   11328.000000         NaN   \n",
      "21                          NaN            NaN         NaN   \n",
      "22  Max profit per household(\\)            NaN         NaN   \n",
      "23                  4.91373e+08            NaN         NaN   \n",
      "24                          NaN            NaN         NaN   \n",
      "25          max_profit_national            NaN         NaN   \n",
      "26                5579969158230            NaN         NaN   \n",
      "27                          NaN            NaN         NaN   \n",
      "\n",
      "                Gangwon Unnamed: 4    Chungbuk  Unnamed: 6      Chungnam  \\\n",
      "0                691171        NaN      605486         NaN  7.968460e+05   \n",
      "1               60.1626        NaN     68.5185         NaN  9.610390e+01   \n",
      "2                  2.37        NaN        1.14         NaN  2.120000e+00   \n",
      "3                   1.8        NaN        3.12         NaN  2.240000e+00   \n",
      "4                   1.8        NaN        2.19         NaN  1.750000e+00   \n",
      "5                  0.21        NaN        0.45         NaN  3.100000e-01   \n",
      "6                  0.36        NaN        0.18         NaN  1.400000e-01   \n",
      "7                  0.23        NaN        0.17         NaN  3.300000e-01   \n",
      "8                  0.31        NaN        0.39         NaN  3.900000e-01   \n",
      "9                  0.27        NaN        0.29         NaN  1.700000e-01   \n",
      "10                 0.21        NaN        0.29         NaN  2.000000e-01   \n",
      "11                    0          0           0    0.000000  2.000000e-02   \n",
      "12                 1.37    82.4228        1.07   73.314815  1.190000e+00   \n",
      "13                 2.46        148        1.33   91.129630  1.540000e+00   \n",
      "14                 0.85    51.1382        1.08   74.000000  7.500000e-01   \n",
      "15                 1.09    65.5772        0.75   51.388889  8.700000e-01   \n",
      "16                 8.93    537.252        9.29  636.537037  8.840000e+00   \n",
      "17                13.33    801.967       12.45  853.055556  1.202000e+01   \n",
      "18               341700        NaN      386130         NaN  1.467030e+06   \n",
      "19              5679.61        NaN     5635.41         NaN  1.526504e+04   \n",
      "20                 6780        NaN        7087         NaN  1.234800e+04   \n",
      "21                  NaN        NaN         NaN         NaN           NaN   \n",
      "22                  NaN        NaN  labor hour         NaN           NaN   \n",
      "23              seeding     10days          74         NaN           NaN   \n",
      "24  prepare paddy field     40days         296         NaN           NaN   \n",
      "25              harvest     50days         370         NaN           NaN   \n",
      "26            fertilize     10days          74         NaN           NaN   \n",
      "27              implant     20days         148         NaN           NaN   \n",
      "\n",
      "     Unnamed: 8       Jeonbuk  Unnamed: 10       Jeonnam  Unnamed: 12  \\\n",
      "0           NaN  6.676440e+05          NaN  5.868820e+05          NaN   \n",
      "1           NaN  1.049645e+02          NaN  8.862275e+01          NaN   \n",
      "2           NaN  1.690000e+00          NaN  1.840000e+00          NaN   \n",
      "3           NaN  1.940000e+00          NaN  1.880000e+00          NaN   \n",
      "4           NaN  1.310000e+00          NaN  2.090000e+00          NaN   \n",
      "5           NaN  2.200000e-01          NaN  5.400000e-01          NaN   \n",
      "6           NaN  2.700000e-01          NaN  2.000000e-01          NaN   \n",
      "7           NaN  2.800000e-01          NaN  2.100000e-01          NaN   \n",
      "8           NaN  3.000000e-01          NaN  1.700000e-01          NaN   \n",
      "9           NaN  1.800000e-01          NaN  1.600000e-01          NaN   \n",
      "10          NaN  1.800000e-01          NaN  2.000000e-01          NaN   \n",
      "11     1.922078  1.000000e-02     1.049645  0.000000e+00     0.000000   \n",
      "12   114.363636  8.300000e-01    87.120567  1.050000e+00    93.053892   \n",
      "13   148.000000  1.410000e+00   148.000000  1.670000e+00   148.000000   \n",
      "14    72.077922  5.900000e-01    61.929078  8.100000e-01    71.784431   \n",
      "15    83.610390  6.800000e-01    71.375887  8.100000e-01    71.784431   \n",
      "16   849.558442  7.200000e+00   755.744681  8.340000e+00   739.113772   \n",
      "17  1155.168831  9.890000e+00  1038.099291  1.163000e+01  1030.682635   \n",
      "18          NaN  1.283330e+06          NaN  1.739860e+06          NaN   \n",
      "19          NaN  1.222632e+04          NaN  1.963220e+04          NaN   \n",
      "20          NaN  9.493000e+03          NaN  1.452200e+04          NaN   \n",
      "21          NaN           NaN          NaN           NaN          NaN   \n",
      "22          NaN           NaN          NaN           NaN          NaN   \n",
      "23          NaN           NaN          NaN           NaN          NaN   \n",
      "24          NaN           NaN          NaN           NaN          NaN   \n",
      "25          NaN           NaN          NaN           NaN          NaN   \n",
      "26          NaN           NaN          NaN           NaN          NaN   \n",
      "27          NaN           NaN          NaN           NaN          NaN   \n",
      "\n",
      "       Gyeongbuk  Unnamed: 14      Gyeongnam  Unnamed: 16       Unnamed: 17  \n",
      "0   7.439520e+05          NaN  711568.000000          NaN               NaN  \n",
      "1   1.013699e+02          NaN     102.068966          NaN  Total labor hour  \n",
      "2   1.780000e+00          NaN       1.490000          NaN               NaN  \n",
      "3   2.280000e+00          NaN       2.500000          NaN               NaN  \n",
      "4   1.710000e+00          NaN       2.290000          NaN               NaN  \n",
      "5   3.000000e-01          NaN       0.360000          NaN               NaN  \n",
      "6   2.800000e-01          NaN       0.300000          NaN               NaN  \n",
      "7   3.400000e-01          NaN       0.490000          NaN               NaN  \n",
      "8   2.600000e-01          NaN       0.220000          NaN               NaN  \n",
      "9   1.900000e-01          NaN       0.280000          NaN               NaN  \n",
      "10  3.300000e-01          NaN       0.080000          NaN               NaN  \n",
      "11  0.000000e+00     0.000000       0.000000     0.000000                74  \n",
      "12  1.580000e+00   160.164384       1.440000   146.979310               296  \n",
      "13  1.380000e+00   139.890411       1.450000   148.000000               148  \n",
      "14  7.300000e-01    74.000000       0.670000    68.386207                74  \n",
      "15  7.400000e-01    75.013699       1.010000   103.089655               370  \n",
      "16  9.050000e+00   917.397260       9.450000   964.551724            1228.4  \n",
      "17  1.190000e+01  1206.301370      12.580000  1284.027586            2190.4  \n",
      "18  1.188130e+06          NaN  819910.000000          NaN               NaN  \n",
      "19  1.172074e+04          NaN    8032.902027          NaN               NaN  \n",
      "20  1.763800e+04          NaN   12295.000000          NaN               NaN  \n",
      "21           NaN          NaN            NaN          NaN               NaN  \n",
      "22           NaN          NaN            NaN          NaN               NaN  \n",
      "23           NaN          NaN            NaN          NaN               NaN  \n",
      "24           NaN          NaN            NaN          NaN               NaN  \n",
      "25           NaN          NaN            NaN          NaN               NaN  \n",
      "26           NaN          NaN            NaN          NaN               NaN  \n",
      "27           NaN          NaN            NaN          NaN               NaN  \n"
     ]
    }
   ],
   "source": [
    "import pandas as pd\n",
    "\n",
    "df = pd.read_excel(r'C:\\Users\\JSW\\Desktop\\final_project.xlsx')\n",
    "\n",
    "print(df)"
   ]
  },
  {
   "cell_type": "markdown",
   "metadata": {},
   "source": [
    "### 2) Set Constraints and Optimize the Profit"
   ]
  },
  {
   "cell_type": "code",
   "execution_count": 9,
   "metadata": {
    "scrolled": true
   },
   "outputs": [
    {
     "name": "stdout",
     "output_type": "stream",
     "text": [
      "optimum 491372686.152 at [ 89.157  60.163  68.519  96.104 104.965  88.623 101.37  102.069]\n",
      "0.0\n",
      "0.0\n",
      "0.0\n",
      "832292.771\n",
      "0.0\n",
      "0.0\n"
     ]
    }
   ],
   "source": [
    "import numpy as np\n",
    "import cvxpy as cp\n",
    "\n",
    "#set the variables that we want to gain, which is area per household\n",
    "area = cp.Variable(8, nonneg = True)\n",
    "\n",
    "#set the objective functions\n",
    "rice_profit = np.array(df.T[0][1:16:2]) #needed to transpose\n",
    "objective = cp.Maximize(rice_profit@area)\n",
    "\n",
    "name = np.array([\"Gyeonggi\", \"Gangwon\", \"Chungbuk\", \"Chungnam\", \"Jeonbuk\", \"Jeonnam\",\n",
    "                 \"Gyeongbuk\", \"Gyeongnam\"])\n",
    "\n",
    "#set the constraints\n",
    "labor_hour = np.array(df[\"Unnamed: 17\"][11:17])\n",
    "GG = np.array(df[name[0]][11:17])\n",
    "GW = np.array(df[name[1]][11:17])\n",
    "CB = np.array(df[name[2]][11:17])\n",
    "CN = np.array(df[name[3]][11:17])\n",
    "JB = np.array(df[name[4]][11:17])\n",
    "JN = np.array(df[name[5]][11:17])\n",
    "GB = np.array(df[name[6]][11:17])\n",
    "GN = np.array(df[name[7]][11:17])\n",
    "\n",
    "A = np.array([GG, GW, CB, CN, JB, JN, GB, GN])\n",
    "constraint = [A[0]*area[0] <= labor_hour, A[1]*area[1] <= labor_hour, A[2]*area[2] <= labor_hour,\n",
    "              A[3]*area[3] <= labor_hour, A[4]*area[4] <= labor_hour, A[5]*area[5] <= labor_hour,\n",
    "              A[6]*area[6] <= labor_hour, A[7]*area[7] <= labor_hour]\n",
    "\n",
    "#solve\n",
    "problem = cp.Problem(objective, constraint)\n",
    "problem.solve(solver='ECOS')\n",
    "\n",
    "print('optimum', round(problem.value, 3), 'at', np.round(area.value, 3))\n",
    "\n",
    "\n",
    "#check if there are shadow price, not important\n",
    "f_opt = problem.value\n",
    "x_opt = area.value\n",
    "shadow_prices = problem.constraints[0].dual_value\n",
    "\n",
    "for i in range(6):\n",
    "    print(round(shadow_prices[i], 3))  \n"
   ]
  },
  {
   "cell_type": "code",
   "execution_count": 13,
   "metadata": {},
   "outputs": [
    {
     "name": "stdout",
     "output_type": "stream",
     "text": [
      "[0.   1.07 1.13 0.83 0.48 8.36]\n"
     ]
    }
   ],
   "source": []
  },
  {
   "cell_type": "markdown",
   "metadata": {},
   "source": [
    "### *Look over by Graph*"
   ]
  },
  {
   "cell_type": "code",
   "execution_count": 21,
   "metadata": {},
   "outputs": [
    {
     "data": {
      "image/png": "[encoded data removed]",
      "text/plain": [
       "<Figure size 432x288 with 1 Axes>"
      ]
     },
     "metadata": {
      "needs_background": "light"
     },
     "output_type": "display_data"
    }
   ],
   "source": [
    "import matplotlib.pyplot as plt\n",
    "from matplotlib import pyplot\n",
    "%matplotlib inline\n",
    "\n",
    "for i in range(0,6):\n",
    "    x = [a for a in range(200)]\n",
    "    y = [GG[i]*b - labor_hour[i] for b in range(200)]\n",
    "    plt.plot(x, y, 'red')\n",
    "    plt.show\n",
    "\n",
    "x = [a for a in range(200)]\n",
    "y = [0 for b in range(200)]\n",
    "plt.plot(x, y, 'Blue')\n",
    "plt.show\n",
    "\n",
    "plt.title(name[0])\n",
    "plt.ylabel('labor hour')\n",
    "plt.xlabel('agriculture area')\n",
    "plt.show()"
   ]
  },
  {
   "cell_type": "code",
   "execution_count": 22,
   "metadata": {},
   "outputs": [
    {
     "data": {
      "image/png": "[encoded data removed]",
      "text/plain": [
       "<Figure size 432x288 with 8 Axes>"
      ]
     },
     "metadata": {
      "needs_background": "light"
     },
     "output_type": "display_data"
    }
   ],
   "source": [
    "for j in range(0,8):\n",
    "    plt.subplot(2,4,j+1)\n",
    "    for i in range(0,6):\n",
    "        x = [a for a in range(200)]\n",
    "        y = [A[j][i]*b - labor_hour[i] for b in range(200)]\n",
    "        plt.plot(x, y, 'red')\n",
    "        plt.show\n",
    "    x = [a for a in range(200)]\n",
    "    y = [0 for b in range(200)]\n",
    "    plt.plot(x, y, 'Blue')\n",
    "    plt.show\n",
    "    plt.title(name[j])\n",
    "    plt.ylabel('labor hour')\n",
    "    plt.xlabel('agriculture area')\n",
    "plt.show()\n"
   ]
  },
  {
   "cell_type": "markdown",
   "metadata": {},
   "source": [
    "### Below chart shows the amount of farming area\n",
    "\n",
    "| | Gyeonggi | Gangwon | Chungbuk | Chungnam | Jeonbuk | Jeonnam | Gyeongbuk | Gyeongnam |\n",
    "|:---|:---|:---|:---|:---|:---|:---|:---|:---|\n",
    "| Farming area(a) | 862430 | 341700 | 386130 | 1467030 | 1283330 | 1739860 | 1188130 | 819910 |\n",
    "| area per household(a) | 89.157 | 60.163 | 68.519 | 96.104 | 104.965 | 88.623 | 101.370 | 102.069 |\n",
    "| needed households | 9673.201 | 5679.608 | 5635.411 | 15265.041 | 12226.320 | 19632.204 | 11720.742 | 8032.902 |\n",
    "| in real | 11325 | 6780 | 7087 | 12348 | 9493 | 14522 | 17638 | 12295 |\n",
    "\n",
    "\n"
   ]
  },
  {
   "cell_type": "markdown",
   "metadata": {},
   "source": [
    "## So, we still have <span style=\"color:green\">*3629*</span> more households than we need."
   ]
  },
  {
   "cell_type": "code",
   "execution_count": null,
   "metadata": {},
   "outputs": [],
   "source": []
  }
 ],
 "metadata": {
  "kernelspec": {
   "display_name": "Python 3",
   "language": "python",
   "name": "python3"
  },
  "language_info": {
   "codemirror_mode": {
    "name": "ipython",
    "version": 3
   },
   "file_extension": ".py",
   "mimetype": "text/x-python",
   "name": "python",
   "nbconvert_exporter": "python",
   "pygments_lexer": "ipython3",
   "version": "3.7.3"
  }
 },
 "nbformat": 4,
 "nbformat_minor": 2
}
